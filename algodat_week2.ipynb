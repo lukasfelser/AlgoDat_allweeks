{
 "cells": [
  {
   "cell_type": "code",
   "execution_count": 2,
   "id": "54064af9",
   "metadata": {},
   "outputs": [],
   "source": [
    "def compare_lists(list1, list2):              # CHECK\n",
    "    newlist = []\n",
    "    for item in list1:\n",
    "        if item in list2:\n",
    "            newlist.append(item) \n",
    "    return newlist"
   ]
  },
  {
   "cell_type": "code",
   "execution_count": 3,
   "id": "9b446c1e",
   "metadata": {},
   "outputs": [
    {
     "data": {
      "text/plain": [
       "[2, 4]"
      ]
     },
     "execution_count": 3,
     "metadata": {},
     "output_type": "execute_result"
    }
   ],
   "source": [
    "compare_lists([1,2,3,4], [2,4,6,8])"
   ]
  },
  {
   "cell_type": "code",
   "execution_count": 11,
   "id": "6d20d999",
   "metadata": {},
   "outputs": [],
   "source": [
    "def count_integer(numbers, integer):         # CHECK\n",
    "    count = 0\n",
    "    for item in numbers:\n",
    "        if item == integer:\n",
    "            count += 1\n",
    "    if count > 0:\n",
    "        return count\n",
    "    else:\n",
    "        return 42"
   ]
  },
  {
   "cell_type": "code",
   "execution_count": 47,
   "id": "3f497ac7",
   "metadata": {},
   "outputs": [
    {
     "data": {
      "text/plain": [
       "2"
      ]
     },
     "execution_count": 47,
     "metadata": {},
     "output_type": "execute_result"
    }
   ],
   "source": [
    "count_integer([1,2,3,4,1,2],1)"
   ]
  },
  {
   "cell_type": "code",
   "execution_count": 44,
   "id": "8ecef4a0",
   "metadata": {},
   "outputs": [],
   "source": [
    "def list_func(numbers, integer):             # check?\n",
    "    empty_list = []\n",
    "    if integer not in numbers:\n",
    "        return empty_list\n",
    "    else:\n",
    "        numbers[5] = integer\n",
    "        print(numbers[::-1])okd\n",
    "        return numbers"
   ]
  },
  {
   "cell_type": "code",
   "execution_count": 45,
   "id": "a4dcf029",
   "metadata": {},
   "outputs": [
    {
     "name": "stdout",
     "output_type": "stream",
     "text": [
      "[64, 4, 16, 8, 4, 2, 1]\n"
     ]
    },
    {
     "data": {
      "text/plain": [
       "[1, 2, 4, 8, 16, 4, 64]"
      ]
     },
     "execution_count": 45,
     "metadata": {},
     "output_type": "execute_result"
    }
   ],
   "source": [
    "list_func([1,2,4,8,16,32,64], 4)"
   ]
  },
  {
   "cell_type": "code",
   "execution_count": 38,
   "id": "843ea4f5",
   "metadata": {},
   "outputs": [],
   "source": [
    "def remove_duplicates(lst):                  # CHECK\n",
    "    new_list = []\n",
    "    for item in lst:\n",
    "        if item not in new_list:\n",
    "            new_list.append(item)\n",
    "    return new_list"
   ]
  },
  {
   "cell_type": "code",
   "execution_count": 39,
   "id": "dec26fcc",
   "metadata": {},
   "outputs": [
    {
     "data": {
      "text/plain": [
       "[1, 2, 3, 4, 5]"
      ]
     },
     "execution_count": 39,
     "metadata": {},
     "output_type": "execute_result"
    }
   ],
   "source": [
    "remove_duplicates([1,2,3,1,4,2,5])"
   ]
  },
  {
   "cell_type": "code",
   "execution_count": 35,
   "id": "227a000c",
   "metadata": {},
   "outputs": [],
   "source": [
    "def dict_func(dictionary):                   # CHECK\n",
    "    typ = dictionary['Type']\n",
    "    brand = dictionary['Brand']\n",
    "    price = dictionary['Price']\n",
    "    print(f'You have a {typ} from {brand} that costs {price}.')\n",
    "    dictionary['OS'] = 'Linux'\n",
    "    return dictionary"
   ]
  },
  {
   "cell_type": "code",
   "execution_count": 36,
   "id": "5ac31624",
   "metadata": {},
   "outputs": [],
   "source": [
    "my_dict = {'Type':'Tablet', 'Brand':'Microsoft', 'Price':'1000'}"
   ]
  },
  {
   "cell_type": "code",
   "execution_count": 37,
   "id": "3ceb855f",
   "metadata": {},
   "outputs": [
    {
     "name": "stdout",
     "output_type": "stream",
     "text": [
      "You have a Tablet from Microsoft that costs 1000.\n"
     ]
    },
    {
     "data": {
      "text/plain": [
       "{'Type': 'Tablet', 'Brand': 'Microsoft', 'Price': '1000', 'OS': 'Linux'}"
      ]
     },
     "execution_count": 37,
     "metadata": {},
     "output_type": "execute_result"
    }
   ],
   "source": [
    "dict_func(my_dict)"
   ]
  },
  {
   "cell_type": "code",
   "execution_count": null,
   "id": "98ef10d5",
   "metadata": {},
   "outputs": [],
   "source": []
  }
 ],
 "metadata": {
  "kernelspec": {
   "display_name": "Python 3 (ipykernel)",
   "language": "python",
   "name": "python3"
  },
  "language_info": {
   "codemirror_mode": {
    "name": "ipython",
    "version": 3
   },
   "file_extension": ".py",
   "mimetype": "text/x-python",
   "name": "python",
   "nbconvert_exporter": "python",
   "pygments_lexer": "ipython3",
   "version": "3.9.7"
  }
 },
 "nbformat": 4,
 "nbformat_minor": 5
}
